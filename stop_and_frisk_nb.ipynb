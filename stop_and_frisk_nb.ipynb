{
 "cells": [
  {
   "cell_type": "code",
   "execution_count": 4,
   "metadata": {},
   "outputs": [
    {
     "name": "stdout",
     "output_type": "stream",
     "text": [
      "    year arstmade race\n",
      "0   2003        N    B\n",
      "1   2003        N    B\n",
      "2   2003        N    Q\n",
      "3   2003        N    Q\n",
      "4   2003        N    B\n",
      "         year arstmade race\n",
      "5065143  2016        N    W\n",
      "5065144  2016        N    U\n",
      "5065145  2016        Y    U\n",
      "5065146  2016        N    W\n",
      "5065147                    \n"
     ]
    }
   ],
   "source": [
    "import pandas as pd\n",
    "import numpy as np\n",
    "import matplotlib.pyplot as plt\n",
    "get_ipython().run_line_magic('matplotlib', 'inline')\n",
    "from bs4 import BeautifulSoup\n",
    "\n",
    "#stop and frisk data downloaded from 'https://www1.nyc.gov/site/nypd/stats/reports-analysis/stopfrisk.page'\n",
    "#data contained in 14 csv files and 1 xlsx file\n",
    "\n",
    "root = \"https://raw.githubusercontent.com/miftachowdhury/nyc_stop_and_frisk/master/data/\"\n",
    "\n",
    "#read csv files into one dataframe\n",
    "sf=pd.DataFrame()\n",
    "\n",
    "y=2003\n",
    "for y in range(2003, 2017):\n",
    "    i=1\n",
    "    url = root+str(y)+\".csv\"\n",
    "    try:\n",
    "        df1 = pd.read_csv(url, usecols=['year', 'arstmade', 'race'], dtype='unicode')\n",
    "        sf = sf.append(df1, ignore_index=True, sort=False)\n",
    "    except:\n",
    "        while True:\n",
    "            try:\n",
    "                j = \"-\"+str(i)\n",
    "                url = root+str(y)+j+\".csv\"\n",
    "                df1 = pd.read_csv(url, usecols=['year', 'arstmade', 'race'], dtype='unicode')\n",
    "                sf = sf.append(df1, ignore_index=True, sort=False)\n",
    "                i+=1\n",
    "            except: break"
   ]
  },
  {
   "cell_type": "code",
   "execution_count": 6,
   "metadata": {},
   "outputs": [
    {
     "name": "stdout",
     "output_type": "stream",
     "text": [
      "    year arstmade race\n",
      "0   2003        N    B\n",
      "1   2003        N    B\n",
      "2   2003        N    Q\n",
      "3   2003        N    Q\n",
      "4   2003        N    B          year arstmade race\n",
      "5076772  2017        Y    B\n",
      "5076773  2017        N    Q\n",
      "5076774  2017        Y    B\n",
      "5076775  2017        Y    B\n",
      "5076776  2017        Y    W\n"
     ]
    }
   ],
   "source": [
    "#read xlsx file (2017 data)\n",
    "df17 = pd.read_excel(root+'2017.xlsx', names=('year', 'arstmade', 'race'), usecols=\"D, W, BN\", dtype='unicode')\n",
    "\n",
    "#recode 2017 race values to match 2003-2016 race values\n",
    "def race_recode(race):\n",
    "    if race=='ASIAN/PAC.ISL': new_race='A'\n",
    "    elif race=='BLACK': new_race='B'\n",
    "    elif race=='AMER IND': new_race ='I'\n",
    "    elif race=='BLACK HISPANIC': new_race='P'\n",
    "    elif race=='WHITE HISPANIC': new_race='Q'\n",
    "    elif race=='WHITE': new_race='W'\n",
    "    elif race=='(null)': new_race='X'\n",
    "    elif race=='MALE': new_race='X' #data entry error led to instances of 'MALE' for race\n",
    "    else: new_race ='Z'\n",
    "    return new_race\n",
    "df17['race']=df17['race'].apply(race_recode)\n",
    "\n",
    "#concatenate csv df (03-16) and xlsx df(17) to create one dataframe\n",
    "sf=pd.concat([sf, df17], ignore_index=True)\n",
    "\n",
    "print(sf.head(), sf.tail())"
   ]
  },
  {
   "cell_type": "code",
   "execution_count": 8,
   "metadata": {},
   "outputs": [
    {
     "name": "stdout",
     "output_type": "stream",
     "text": [
      "There were 5,076,775 stops between 2003 and 2017, inclusive.\n"
     ]
    }
   ],
   "source": [
    "#recode black hispanic to black for purposes of this analysis\n",
    "sf['race']=sf['race'].where(sf['race']!='P', 'B')\n",
    "\n",
    "#replace empty cells with NA and check how many NAs there are in the dataframe\n",
    "sf.replace(' ', np.nan, inplace=True)\n",
    "    #COMMENTED CODE:print(sf.isna().sum())\n",
    "    #NAs - year: 1; arstmade: 2; race: 165\n",
    "\n",
    "#fill race NAs with X to represent \"unknown\" per codebook and drop remaining NAs\n",
    "sf['race']=sf['race'].fillna('X')\n",
    "sf.dropna(inplace=True)\n",
    "\n",
    "#descriptives\n",
    "#check number of rows in dataframe\n",
    "print('There were', '{:,}'.format(len(sf)), 'stops between 2003 and 2017, inclusive.')"
   ]
  },
  {
   "cell_type": "code",
   "execution_count": 12,
   "metadata": {},
   "outputs": [
    {
     "name": "stdout",
     "output_type": "stream",
     "text": [
      "Out of 2,942,275 stops of black people, 2,762,927 or around 93.90% did not result in an arrest.\n",
      "Out of 5,076,775 stops, 4,766,473 or around 93.89% did not result in an arrest.\n"
     ]
    }
   ],
   "source": [
    "df_black = sf[sf['race']=='B']\n",
    "\n",
    "#some observations (relevant but not necessary for this analysis):\n",
    "    #print(np.count_nonzero(np.where(df_black['arstmade']=='N'))) #2,762,927 stops of black people that did not lead to arrest\n",
    "    #print(np.count_nonzero(df_black['arstmade'])) #2,942,275 stops of black people total\n",
    "    #print(np.count_nonzero(np.where(sf['arstmade']=='N'))) #4,766,473 stops did not lead to arrest\n",
    "    #print(np.count_nonzero(sf['arstmade'])) #5,076,775 stops total\n",
    "\n",
    "#check percent of stops that did not lead to arrest, for black individuals only\n",
    "print('Out of', '{:,}'.format(np.count_nonzero(df_black['arstmade'])), 'stops of black people,', '{:,}'.format(np.count_nonzero(np.where(df_black['arstmade']=='N'))), 'or around','{0:.2f}%'.format((np.count_nonzero(np.where(df_black['arstmade']=='N'))/np.count_nonzero(df_black['arstmade']))*100), 'did not result in an arrest.')\n",
    "\n",
    "#check percent of all stops that did not lead to arrest\n",
    "print('Out of', '{:,}'.format(np.count_nonzero(sf['arstmade'])), 'stops,', '{:,}'.format(np.count_nonzero(np.where(sf['arstmade']=='N'))), 'or around','{0:.2f}%'.format((np.count_nonzero(np.where(sf['arstmade']=='N'))/np.count_nonzero(sf['arstmade']))*100), 'did not result in an arrest.')\n",
    "\n",
    "df_innocent = sf[sf['arstmade']=='N']"
   ]
  },
  {
   "cell_type": "code",
   "execution_count": 15,
   "metadata": {},
   "outputs": [
    {
     "name": "stdout",
     "output_type": "stream",
     "text": [
      "Around 57.96% of all stops were of a black person.\n",
      "Around 57.97% of innocent stops were of a black person.\n",
      "According to the 2010 census, as reported by the NYC Dept. of City Planning, the population of NYC is ~25.5% black.\n"
     ]
    }
   ],
   "source": [
    "#check percent of stops where suspect was black\n",
    "all_stop_black = (np.count_nonzero(np.where(sf['race']=='B'))/np.count_nonzero(sf['race']))*100\n",
    "print('Around','{0:.2f}%'.format(all_stop_black), 'of all stops were of a black person.')\n",
    "\n",
    "#check percent of innocent stops where suspect was black\n",
    "inn_stop_black = (np.count_nonzero(np.where(df_innocent['race']=='B'))/np.count_nonzero(df_innocent['race']))*100\n",
    "print('Around','{0:.2f}%'.format(inn_stop_black), 'of innocent stops were of a black person.')\n",
    "\n",
    "#from https://www1.nyc.gov/assets/planning/download/office/data-maps/nyc-population/census2010/t_sf1_dp_nyc.xlsx row 86, black population in NYC is ~25.5%\n",
    "print('According to the 2010 census, as reported by the NYC Dept. of City Planning, the population of NYC is ~25.5% black.')"
   ]
  },
  {
   "cell_type": "code",
   "execution_count": 26,
   "metadata": {},
   "outputs": [
    {
     "data": {
      "image/png": "[encoded data removed]",
      "text/plain": [
       "<Figure size 1440x648 with 1 Axes>"
      ]
     },
     "metadata": {},
     "output_type": "display_data"
    }
   ],
   "source": [
    "#QUESTION 1: Of stops that did not result in an arrest, is the person significantly more likely to be black than would be expected based on the demographics of NYC?\n",
    "\n",
    "#The statistic: Proportion of the population of innocent stops who are black: a sample proportion of 0.5797 (57.97%)\n",
    "\n",
    "#Method 1: Simulate a random distribution around the 25.5% black population in NYC using total number of stops as the sample size\n",
    "#and then plot the 57.96% statistic on a histogram of the distribution\n",
    "\n",
    "black_pop_nyc = [0.255, 0.745] #See above; according to the 2010 census, as reported by NYC DCP, NYC is 25.5% black\n",
    "\n",
    "def sample_proportions(sample_size, probabilities):\n",
    "    return np.random.multinomial(sample_size, probabilities) / sample_size\n",
    "\n",
    "counts = []\n",
    "\n",
    "for i in range(1000):\n",
    "    counts.append(100*sample_proportions(len(sf), black_pop_nyc)[0])\n",
    "\n",
    "def setUpPlot():    \n",
    "    plt.style.use('seaborn-white')\n",
    "    plt.figure(figsize=(20,9))\n",
    "    ax = plt.subplot(1,1,1)\n",
    "    ax.spines['top'].set_visible(False)\n",
    "    ax.spines['right'].set_visible(False)\n",
    "    ax.spines['left'].set_visible(False)\n",
    "    \n",
    "setUpPlot()\n",
    "plt.hist(counts, alpha = 0.25, color='darkblue');\n",
    "plt.scatter(inn_stop_black, 0, color='red', s=30);"
   ]
  },
  {
   "cell_type": "code",
   "execution_count": 27,
   "metadata": {},
   "outputs": [
    {
     "name": "stdout",
     "output_type": "stream",
     "text": [
      "Based on the plot, our test statistic clearly does not fall in the distribution, suggesting that the stops are not random.\n"
     ]
    }
   ],
   "source": [
    "print('Based on the plot, our test statistic clearly does not fall in the distribution, suggesting that the stops are not random.')"
   ]
  },
  {
   "cell_type": "code",
   "execution_count": 31,
   "metadata": {},
   "outputs": [
    {
     "name": "stdout",
     "output_type": "stream",
     "text": [
      "0.000\n"
     ]
    }
   ],
   "source": [
    "#QUESTION 1: Of stops that did not result in an arrest, is the person significantly more likely to be black than would be expected based on the demographics of NYC?\n",
    "\n",
    "#The statistic: Proportion of the population of innocent stops who are black: a sample proportion of 0.5797 (57.97%)\n",
    "\n",
    "#Method 2: Run a hypothesis test, using data from the innocent stop dataframe, and 2010 Census data from NYC DCP website\n",
    "\n",
    "from statsmodels.stats.proportion import proportions_ztest\n",
    "count = np.count_nonzero(np.where(df_innocent['race']=='B'))\n",
    "nobs = np.count_nonzero(df_innocent['race'])\n",
    "value = 0.255\n",
    "stat, pval = proportions_ztest(count, nobs, value)\n",
    "print('{0:0.3f}'.format(pval))\n",
    "\n",
    "#Confirmed that the above works because if you change 'value' to 0.58 i.e. closer to the statistic, the p-value starts to increase"
   ]
  },
  {
   "cell_type": "code",
   "execution_count": 32,
   "metadata": {},
   "outputs": [
    {
     "name": "stdout",
     "output_type": "stream",
     "text": [
      "Based on the p-value of 0.000 from the test, we can reject the null hypothesis, suggesting that the stops are not random.\n",
      "This finding is true at an alpha level of 0.05 or 0.01, and alphas much lower.\n"
     ]
    }
   ],
   "source": [
    "print('Based on the p-value of 0.000 from the test, we can reject the null hypothesis, suggesting that the stops are not random.\\nThis finding is true at an alpha level of 0.05 or 0.01, and alphas much lower.')"
   ]
  }
 ],
 "metadata": {
  "kernelspec": {
   "display_name": "Python 3",
   "language": "python",
   "name": "python3"
  },
  "language_info": {
   "codemirror_mode": {
    "name": "ipython",
    "version": 3
   },
   "file_extension": ".py",
   "mimetype": "text/x-python",
   "name": "python",
   "nbconvert_exporter": "python",
   "pygments_lexer": "ipython3",
   "version": "3.7.1"
  }
 },
 "nbformat": 4,
 "nbformat_minor": 2
}
